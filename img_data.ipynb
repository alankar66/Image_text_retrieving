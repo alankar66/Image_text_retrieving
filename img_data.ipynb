{
 "cells": [
  {
   "cell_type": "code",
   "execution_count": 2,
   "id": "posted-pencil",
   "metadata": {},
   "outputs": [
    {
     "data": {
      "text/plain": [
       "[{'profile_pic': '@idkthomas',\n",
       "  'user_name': '@idkthomas',\n",
       "  'following': '355',\n",
       "  'followers': '291.2K',\n",
       "  'likes': '5.7M',\n",
       "  'bio': 'amos thomas_day13 83 @\\nTHANKS FOR 291k\\n\\n& https://top-ty-s-shop.myshopify.com\\n\\x0c'}]"
      ]
     },
     "execution_count": 2,
     "metadata": {},
     "output_type": "execute_result"
    }
   ],
   "source": [
    "import cv2\n",
    "import numpy as np\n",
    "import pytesseract\n",
    "import os\n",
    "pytesseract.pytesseract.tesseract_cmd=r'C:\\Program Files\\Tesseract-OCR\\tesseract.exe'\n",
    "i = 0\n",
    "directory = 'videos'\n",
    "user = []\n",
    "\n",
    "for filename in os.listdir(directory):\n",
    "    if filename.endswith(\".mp4\"):\n",
    "        cap = cv2.VideoCapture(filename)\n",
    "        cap.set(cv2.CAP_PROP_POS_FRAMES, 0)\n",
    "        res, frame = cap.read()\n",
    "\n",
    "    def profile_pic(frame,xmin,ymin,xmax,ymax):\n",
    "        user_name = usr_name(frame,246,360,484,405)\n",
    "        crop_img = frame[ymin:ymax, xmin:xmax]\n",
    "        cv2.imwrite(f'profile_pic/{user_name}.jpg', crop_img)\n",
    "        return crop_img   \n",
    "\n",
    "\n",
    "    def usr_name(frame,xmin,ymin,xmax,ymax):\n",
    "\n",
    "        crop_img = frame[ymin:ymax, xmin:xmax]\n",
    "        text=pytesseract.image_to_string(crop_img)\n",
    "        result = text.find('\\n')\n",
    "        text = text[:result]\n",
    "        return text \n",
    "\n",
    "\n",
    "    def following_cord(frame,xmin,ymin,xmax,ymax):\n",
    "\n",
    "        crop_img = frame[ymin:ymax, xmin:xmax]\n",
    "        text=pytesseract.image_to_string(crop_img)\n",
    "        result = text.find('\\n')\n",
    "        text = text[:result]\n",
    "        return text \n",
    "\n",
    "\n",
    "    def followers_cord(frame,xmin,ymin,xmax,ymax):\n",
    "\n",
    "        crop_img = frame[ymin:ymax, xmin:xmax]\n",
    "        text=pytesseract.image_to_string(crop_img)\n",
    "        result = text.find('\\n')\n",
    "        text = text[:result]\n",
    "        return text \n",
    "\n",
    "\n",
    "    def likes_cord(frame,xmin,ymin,xmax,ymax):\n",
    "\n",
    "        crop_img = frame[ymin:ymax, xmin:xmax]\n",
    "        text=pytesseract.image_to_string(crop_img)\n",
    "        result = text.find('\\n')\n",
    "        text = text[:result]\n",
    "        return text \n",
    "\n",
    "\n",
    "    def bio(frame,xmin,ymin,xmax,ymax):\n",
    "\n",
    "        crop_img = frame[ymin:ymax, xmin:xmax]\n",
    "        text=pytesseract.image_to_string(crop_img)\n",
    "        return text\n",
    "\n",
    "profile_pic = profile_pic(frame,270,155,452,270)\n",
    "user_name = usr_name(frame,246,360,484,405)\n",
    "following = following_cord(frame,114,423,243,510)\n",
    "followers = followers_cord(frame,291,421,432,517)\n",
    "likes = likes_cord(frame,480,423,616,519)\n",
    "bio = bio(frame,91,626,634,755)\n",
    "\n",
    "user1 = {'profile_pic':user_name,'user_name':user_name,'following': following,'followers':followers,'likes':likes,\"bio\":bio }\n",
    "\n",
    "user.append(user1)\n",
    "user"
   ]
  },
  {
   "cell_type": "code",
   "execution_count": null,
   "id": "awful-gallery",
   "metadata": {},
   "outputs": [],
   "source": []
  }
 ],
 "metadata": {
  "kernelspec": {
   "display_name": "Python 3",
   "language": "python",
   "name": "python3"
  },
  "language_info": {
   "codemirror_mode": {
    "name": "ipython",
    "version": 3
   },
   "file_extension": ".py",
   "mimetype": "text/x-python",
   "name": "python",
   "nbconvert_exporter": "python",
   "pygments_lexer": "ipython3",
   "version": "3.8.5"
  }
 },
 "nbformat": 4,
 "nbformat_minor": 5
}
